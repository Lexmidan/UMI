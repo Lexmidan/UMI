{
 "cells": [
  {
   "cell_type": "code",
   "execution_count": null,
   "metadata": {},
   "outputs": [],
   "source": [
    "import numpy as np\n",
    "\n",
    "# N-queens problem\n",
    "n = 8\n",
    "empty_board = np.full([n, n], False) #False means no queen \n",
    "\n",
    "init_board = empty_board.copy()\n",
    "init_board[0, 0] = True # place a queen at (0, 0)\n",
    "init_board[1, 2] = True # place a queen at (1, 2)"
   ]
  },
  {
   "cell_type": "code",
   "execution_count": null,
   "metadata": {},
   "outputs": [
    {
     "name": "stdout",
     "output_type": "stream",
     "text": [
      "Board from the seminar PDF consistent with N-Queens problem:  True\n",
      "Consistent with N-Queens problem:  False\n"
     ]
    }
   ],
   "source": [
    "# Variables: N queens on an NxN board\n",
    "# Domain: {(x, y)| 0 <= x, y < N}\n",
    "# Constraints: no two queens share the same row, column, or diagonal.\n",
    "...\n",
    "\n",
    "# I've tried to solve it with this domain, but then realized that by the definition of the task, I can reduce the Domain to {0, 1, ..., N-1}\n",
    "# No two queens can share the same row -> no two queens can have the same x coordinate. \n",
    "# I'll represent queens as a list of N integers, where the index represents the row, and the value at that index represents the column.\n",
    "# For example, [0, 2, 4, 7] means that there are a queens at (0, 0), (1, 2), (2, 4), and (3, 7).\n",
    "\n",
    "# So the new variables, domain, and constraints are:\n",
    "# Variales: N integers representing the column of the queen in the row\n",
    "# Domain: {0, 1, ..., N-1}\n",
    "# Constraints: no two queens share the same row, column, or diagonal.\n",
    "\n",
    "# Then I can define allDifferent constraint as a function that checks if all elements in the list are unique. That checks if no two queens share the same column or row.\n",
    "\n",
    "def allDifferent_rc(queens):\n",
    "    #If the length of the list (N) is equal to number of unique elements in the list, then all elements are unique\n",
    "    return len(queens) == len(np.unique(queens))\n",
    "\n",
    "def allDifferent_diagonal(queens):\n",
    "    # Quens are placed diagonally if the difference between their indexes is equal to the difference between their values\n",
    "    for i in range(len(queens)):\n",
    "        for j in range(i + 1, len(queens)):\n",
    "            if abs(i - j) == abs(queens[i] - queens[j]):\n",
    "                return False\n",
    "    return True\n",
    "\n",
    "# Another constraint is that there must be N queens on the board\n",
    "def nQueens(queens, n):\n",
    "    return len(queens) == n\n",
    "\n",
    "# I can now define a function that checks if all the queens are placed correctly\n",
    "def check(queens, n):\n",
    "    return allDifferent_rc(queens) and allDifferent_diagonal(queens) and nQueens(queens, n)\n",
    "\n",
    "# Check example from the seminar PDF\n",
    "print(f'Board from the seminar PDF consistent with N-Queens problem: ', check([4, 0, 7, 3, 1, 6, 2, 5]))\n",
    "\n",
    "# Check example from the seminar PDF with moved quens on first and last rows\n",
    "print(f'Consistent with N-Queens problem: ', check([5, 0, 7, 3, 1, 6, 2, 4]))"
   ]
  },
  {
   "cell_type": "code",
   "execution_count": null,
   "metadata": {},
   "outputs": [],
   "source": [
    "# There is a symmetry in the problem. The cchess board is symmetric with respect to the main diagonal.\n",
    "# But in our case, since the color of the first square is not important, it is actually symmetrical to 90 degrees rotation.\n",
    "# That means that if we have a solution, we can rotate it 90 degrees and get another solution.\n",
    "\n",
    "# Initially the space of possible solutions is of size 8! = 40320, \n",
    "# but since we can rotate the solution 3 times and get another solution, the space to search is 40320/3 = 13440\n",
    "\n",
    "def rotate90(queens, n):\n",
    "    return "
   ]
  },
  {
   "cell_type": "code",
   "execution_count": null,
   "metadata": {},
   "outputs": [],
   "source": [
    "# If the N is small, we can use brute force to find all solutions. \n",
    "# Just create a set of all permutations of the list [0, 1, ..., N-1] and check if they are consistent with the N-Queens problem.\n",
    "# But for N > 8, the number of solutions is too large to use brute force.\n",
    "\n"
   ]
  }
 ],
 "metadata": {
  "kernelspec": {
   "display_name": "base",
   "language": "python",
   "name": "python3"
  },
  "language_info": {
   "codemirror_mode": {
    "name": "ipython",
    "version": 3
   },
   "file_extension": ".py",
   "mimetype": "text/x-python",
   "name": "python",
   "nbconvert_exporter": "python",
   "pygments_lexer": "ipython3",
   "version": "3.11.8"
  }
 },
 "nbformat": 4,
 "nbformat_minor": 2
}
