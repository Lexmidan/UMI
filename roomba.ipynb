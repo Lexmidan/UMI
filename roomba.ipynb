{
 "cells": [
  {
   "cell_type": "code",
   "execution_count": 15,
   "metadata": {},
   "outputs": [],
   "source": [
    "from numpy import random\n",
    "#For visualization\n",
    "from roomba.roomba_path import roomba_path\n",
    "from roomba.visual_utils import visualize_path"
   ]
  },
  {
   "cell_type": "markdown",
   "metadata": {},
   "source": [
    "### Set up the room with litter and roomba in it"
   ]
  },
  {
   "cell_type": "code",
   "execution_count": 22,
   "metadata": {},
   "outputs": [],
   "source": [
    "ROOM_SIZE = (30, 30)\n",
    "\n",
    "starting_point = (random.randint(0, ROOM_SIZE[0] - 1), random.randint(0, ROOM_SIZE[1] - 1))\n",
    "litter_list = [(random.randint(0, ROOM_SIZE[0] - 1), random.randint(0, ROOM_SIZE[1] - 1)) for _ in range(5)]\n",
    "\n",
    "DO_WE_ALLOW_DIAGONAL_MOVEMENT = False"
   ]
  },
  {
   "cell_type": "markdown",
   "metadata": {},
   "source": [
    "### Find the path"
   ]
  },
  {
   "cell_type": "code",
   "execution_count": 23,
   "metadata": {},
   "outputs": [
    {
     "name": "stdout",
     "output_type": "stream",
     "text": [
      "Current position:  (14, 11)\n",
      "Sources:  [(26, 11), (13, 8), (11, 14), (8, 6), (24, 21)]\n",
      "Climbed to  (13, 8)\n",
      "Climbed to  (8, 6)\n",
      "Climbed to  (11, 14)\n",
      "Climbed to  (26, 11)\n",
      "Climbed to  (24, 21)\n",
      "Area clear!\n"
     ]
    }
   ],
   "source": [
    "path, initial_potential_grid = roomba_path(ROOM_SIZE, starting_point, litter_list.copy(), DO_WE_ALLOW_DIAGONAL_MOVEMENT)"
   ]
  },
  {
   "cell_type": "code",
   "execution_count": 24,
   "metadata": {},
   "outputs": [
    {
     "data": {
      "application/vnd.jupyter.widget-view+json": {
       "model_id": "a10f839f8eb24215ad63ddb8d3e3c3b5",
       "version_major": 2,
       "version_minor": 0
      },
      "text/plain": [
       "IntSlider(value=0, description='Step', max=58)"
      ]
     },
     "metadata": {},
     "output_type": "display_data"
    },
    {
     "data": {
      "application/vnd.jupyter.widget-view+json": {
       "model_id": "05d7d8b7c7d44b2493e47c42bdf2746e",
       "version_major": 2,
       "version_minor": 0
      },
      "text/plain": [
       "FigureWidget({\n",
       "    'data': [{'colorscale': [[0.0, '#440154'], [0.1111111111111111, '#482878'],\n",
       "                             [0.2222222222222222, '#3e4989'], [0.3333333333333333,\n",
       "                             '#31688e'], [0.4444444444444444, '#26828e'],\n",
       "                             [0.5555555555555556, '#1f9e89'], [0.6666666666666666,\n",
       "                             '#35b779'], [0.7777777777777778, '#6ece58'],\n",
       "                             [0.8888888888888888, '#b5de2b'], [1.0, '#fde725']],\n",
       "              'showscale': True,\n",
       "              'type': 'heatmap',\n",
       "              'uid': '567469f1-71cf-45da-b22f-a0b2e7bc12bc',\n",
       "              'z': array([[0.20829687, 0.21909479, 0.23127042, ..., 0.16454228, 0.15915024,\n",
       "                           0.15410864],\n",
       "                          [0.21909479, 0.23127042, 0.24514048, ..., 0.17032361, 0.16454228,\n",
       "                           0.15915024],\n",
       "                          [0.23127042, 0.24514048, 0.26113585, ..., 0.1765392 , 0.17032361,\n",
       "                           0.16454228],\n",
       "                          ...,\n",
       "                          [0.24378788, 0.25815582, 0.27464709, ..., 0.25972043, 0.2426909 ,\n",
       "                           0.22817969],\n",
       "                          [0.23112094, 0.24378788, 0.25815582, ..., 0.2426909 , 0.22817969,\n",
       "                           0.21561693],\n",
       "                          [0.21984381, 0.23112094, 0.24378788, ..., 0.22817969, 0.21561693,\n",
       "                           0.20459945]])},\n",
       "             {'line': {'color': 'red', 'width': 2},\n",
       "              'marker': {'color': 'red', 'size': 8},\n",
       "              'mode': 'lines+markers',\n",
       "              'name': \"Climber's Path\",\n",
       "              'type': 'scatter',\n",
       "              'uid': 'bd56894f-a9e7-4cab-85e8-257c4f8dca02',\n",
       "              'x': [],\n",
       "              'y': []}],\n",
       "    'layout': {'height': 600,\n",
       "               'template': '...',\n",
       "               'title': {'text': \"Climber's Path on Potential Grid\"},\n",
       "               'width': 600,\n",
       "               'xaxis': {'title': {'text': 'X Coordinate'}},\n",
       "               'yaxis': {'autorange': 'reversed', 'title': {'text': 'Y Coordinate'}}}\n",
       "})"
      ]
     },
     "metadata": {},
     "output_type": "display_data"
    }
   ],
   "source": [
    "visualize_path(initial_potential_grid, path)"
   ]
  },
  {
   "cell_type": "code",
   "execution_count": null,
   "metadata": {},
   "outputs": [],
   "source": []
  }
 ],
 "metadata": {
  "kernelspec": {
   "display_name": "base",
   "language": "python",
   "name": "python3"
  },
  "language_info": {
   "codemirror_mode": {
    "name": "ipython",
    "version": 3
   },
   "file_extension": ".py",
   "mimetype": "text/x-python",
   "name": "python",
   "nbconvert_exporter": "python",
   "pygments_lexer": "ipython3",
   "version": "3.11.8"
  }
 },
 "nbformat": 4,
 "nbformat_minor": 2
}
