{
 "cells": [
  {
   "cell_type": "code",
   "execution_count": 1,
   "metadata": {},
   "outputs": [],
   "source": [
    "import numpy as np\n",
    "\n",
    "sudoku_grid_1 = np.array([\n",
    "                    [5, 3, 0, 0, 7, 0, 0, 0, 0],\n",
    "                    [6, 0, 0, 1, 9, 5, 0, 0, 0],\n",
    "                    [0, 9, 8, 0, 0, 0, 0, 6, 0],\n",
    "                    [8, 0, 0, 0, 6, 0, 0, 0, 3],\n",
    "                    [4, 0, 0, 8, 0, 3, 0, 0, 1],\n",
    "                    [7, 0, 0, 0, 2, 0, 0, 0, 6],\n",
    "                    [0, 6, 0, 0, 0, 0, 2, 8, 0],\n",
    "                    [0, 0, 0, 4, 1, 9, 0, 0, 5],\n",
    "                    [0, 0, 0, 0, 8, 0, 0, 7, 9]])\n",
    "\n",
    "sudoku_grid_2 = np.array([\n",
    "                    [3, 0, 6, 5, 0, 8, 4, 0, 0],\n",
    "                    [5, 2, 0, 0, 0, 0, 0, 0, 0],\n",
    "                    [0, 8, 7, 0, 0, 0, 0, 3, 1],\n",
    "                    [0, 0, 3, 0, 1, 0, 0, 8, 0],\n",
    "                    [9, 0, 0, 8, 6, 3, 0, 0, 5],\n",
    "                    [0, 5, 0, 0, 9, 0, 6, 0, 0], \n",
    "                    [1, 3, 0, 0, 0, 0, 2, 5, 0],\n",
    "                    [0, 0, 0, 0, 0, 0, 0, 7, 4],\n",
    "                    [0, 0, 5, 2, 0, 6, 3, 0, 0]])\n",
    "\n",
    "sudoku_grid_3 = np.array([\n",
    "                    [3, 1, 6, 5, 7, 8, 4, 9, 2],\n",
    "                    [5, 2, 9, 1, 3, 4, 7, 6, 8],\n",
    "                    [4, 8, 7, 6, 2, 9, 5, 3, 1],\n",
    "                    [2, 6, 3, 0, 1, 5, 9, 8, 7],\n",
    "                    [9, 7, 4, 8, 6, 0, 1, 2, 5],\n",
    "                    [8, 5, 1, 7, 9, 2, 6, 4, 3],\n",
    "                    [1, 3, 8, 0, 4, 7, 2, 0, 6],\n",
    "                    [6, 9, 2, 3, 5, 1, 8, 7, 4],\n",
    "                    [7, 4, 5, 0, 8, 6, 3, 1, 0]])"
   ]
  },
  {
   "cell_type": "code",
   "execution_count": null,
   "metadata": {},
   "outputs": [],
   "source": []
  }
 ],
 "metadata": {
  "kernelspec": {
   "display_name": "base",
   "language": "python",
   "name": "python3"
  },
  "language_info": {
   "codemirror_mode": {
    "name": "ipython",
    "version": 3
   },
   "file_extension": ".py",
   "mimetype": "text/x-python",
   "name": "python",
   "nbconvert_exporter": "python",
   "pygments_lexer": "ipython3",
   "version": "3.11.8"
  }
 },
 "nbformat": 4,
 "nbformat_minor": 2
}
